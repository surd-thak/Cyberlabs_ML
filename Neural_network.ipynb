{
  "nbformat": 4,
  "nbformat_minor": 0,
  "metadata": {
    "colab": {
      "name": "Neural_network.ipynb",
      "provenance": [],
      "collapsed_sections": []
    },
    "kernelspec": {
      "name": "python3",
      "display_name": "Python 3"
    },
    "language_info": {
      "name": "python"
    }
  },
  "cells": [
    {
      "cell_type": "markdown",
      "source": [
        "# **Neural** "
      ],
      "metadata": {
        "id": "Gz3Fe7Ty9Ey4"
      }
    },
    {
      "cell_type": "code",
      "source": [
        "#importing libraries\n",
        "import numpy as np\n",
        "import pandas as pd\n",
        "import matplotlib.pyplot as plt"
      ],
      "metadata": {
        "id": "oAZeJ0vV9KPt"
      },
      "execution_count": 3,
      "outputs": []
    },
    {
      "cell_type": "code",
      "source": [
        "#loading datasets\n",
        "from google.colab import drive\n",
        "drive.mount('/content/drive')"
      ],
      "metadata": {
        "colab": {
          "base_uri": "https://localhost:8080/"
        },
        "id": "OfgtW7n19fwp",
        "outputId": "d2a33cbc-4d05-4296-8239-4ecb5f24a0d8"
      },
      "execution_count": 4,
      "outputs": [
        {
          "output_type": "stream",
          "name": "stdout",
          "text": [
            "Mounted at /content/drive\n"
          ]
        }
      ]
    },
    {
      "cell_type": "code",
      "source": [
        "path2 = \"/content/drive/MyDrive/emnist-letters-test.csv\"\n",
        "path1 = \"/content/drive/MyDrive/emnist-letters-train.csv\"\n",
        "\n",
        "Train0 = pd.read_csv(path1, header = None)\n",
        "Train1 = Train0.to_numpy()\n",
        "\n",
        "Test0 = pd.read_csv(path2, header = None)\n",
        "Test1 = Test0.to_numpy()"
      ],
      "metadata": {
        "id": "wXL-Hlw69l7r"
      },
      "execution_count": 5,
      "outputs": []
    },
    {
      "cell_type": "code",
      "source": [
        "def standardisation(A):\n",
        "  A_mean = np.mean(A, axis = 0)\n",
        "  A_std_dev = np.std(A, axis = 0)\n",
        "  A_standardised = (A - A_mean)/ A_std_dev\n",
        "  return A_standardised\n",
        "\n",
        "def feature_scaling(A) : \n",
        "  return np.divide(A, 256)\n",
        "\n"
      ],
      "metadata": {
        "id": "A7OofaO4Bl_j"
      },
      "execution_count": 6,
      "outputs": []
    },
    {
      "cell_type": "code",
      "source": [
        "X_train0 = Train1[:,1:]\n",
        "X_train1 = feature_scaling(X_train0)"
      ],
      "metadata": {
        "id": "3c5zKTUAla1u"
      },
      "execution_count": 7,
      "outputs": []
    },
    {
      "cell_type": "code",
      "source": [
        "X_test0 = Test1[:,1:]\n",
        "X_test1 = feature_scaling(X_test0)\n"
      ],
      "metadata": {
        "id": "13w9sWAdnNjK"
      },
      "execution_count": 43,
      "outputs": []
    },
    {
      "cell_type": "code",
      "source": [
        "def Neural_2_layered( iterations, alpha, X, Y) :\n",
        "  #prefferable no. of nodes in hidden layer = sqrt(input layer node * output layer node), here it is approx 142\n",
        "  theta1 = np.zeros((X.shape[1], 142))\n",
        "  theta2 = np.zeros((142,26))\n",
        "  b1 = np.ones((X.shape[0], 142))\n",
        "  b2 = np.ones((X.shape[0], 26))\n",
        "  m = X.shape[0]\n",
        "\n",
        " \n",
        "  for i in range(iterations):\n",
        "    #forward propopgation\n",
        "    superscript1 = np.dot (X, theta1) + b1\n",
        "    Act1  = 1/(1+(np.exp(-superscript1)))\n",
        "\n",
        "    superscript2 = np.dot (Act1, theta2) + b2\n",
        "    Act2 = 1/(1+(np.exp(-superscript2)))\n",
        "    \n",
        "    cost = (1/m)*(np.sum(-Y*(np.log(Act2)) - ((1-Y)*(np.log(1-Act2)))))\n",
        "\n",
        "    #backward propogation\n",
        "    dZ2 = (Act2 - Y)\n",
        "    dtheta2 = (1/m) * np.dot(Act1.T, dZ2)\n",
        "    db2 = (1/m) * np.sum(dZ2, axis = 1, keepdims = True)  #keepdims helps to maintain it as a 2d array\n",
        "    \n",
        "    der_Act1 = Act1*(1-Act1)\n",
        "    dZ1 = np.multiply(np.dot(dZ2, theta2.T), der_Act1)\n",
        "    dtheta1 = (1/m) * np.dot(X.T, dZ1)\n",
        "    db1 = (1/m) * np.sum(dZ1, axis = 1, keepdims = True)\n",
        "\n",
        "    \n",
        "\n",
        "    #parameters update\n",
        "    theta_1 = theta1 - alpha*dtheta1\n",
        "    theta1 = theta_1\n",
        "    b_1 = b1 - alpha*db1\n",
        "    b1 = b_1\n",
        "\n",
        "    theta_2 = theta2 - alpha*dtheta2\n",
        "    theta2 = theta_2\n",
        "    b_2 = b2 - alpha*db2\n",
        "    b2 = b_2\n",
        "\n",
        "    plt.scatter(i, cost)\n",
        "    #plt.scatter(i, theta)  theta is a vector this doesnt make any sense\n",
        "    #if i == 100 :\n",
        "    print (cost)\n",
        "     \n",
        "  return theta1, theta2, b1, b2, Act2"
      ],
      "metadata": {
        "id": "YhEC5_lUlz97"
      },
      "execution_count": 40,
      "outputs": []
    },
    {
      "cell_type": "code",
      "source": [
        "Training_label = Train1[:,0]"
      ],
      "metadata": {
        "id": "e3o8DVz530GU"
      },
      "execution_count": 23,
      "outputs": []
    },
    {
      "cell_type": "code",
      "source": [
        "#Y should be only 0 or 1\n",
        "Y_train = np.zeros((Train1.shape[0], 26))\n",
        "for i in range(Train1.shape[0]):\n",
        "    Y_train[i, Training_label[i]-1] = 1\n",
        "pd.DataFrame(Y_train)"
      ],
      "metadata": {
        "colab": {
          "base_uri": "https://localhost:8080/",
          "height": 424
        },
        "id": "1b4pX1IxzQIg",
        "outputId": "d9812819-07e3-4596-8a00-23e31b8ea402"
      },
      "execution_count": 27,
      "outputs": [
        {
          "output_type": "execute_result",
          "data": {
            "text/plain": [
              "        0    1    2    3    4    5    6    7    8    9   ...   16   17   18  \\\n",
              "0      0.0  0.0  0.0  0.0  0.0  0.0  0.0  0.0  0.0  0.0  ...  0.0  0.0  0.0   \n",
              "1      0.0  0.0  0.0  0.0  0.0  0.0  1.0  0.0  0.0  0.0  ...  0.0  0.0  0.0   \n",
              "2      0.0  0.0  0.0  0.0  0.0  0.0  0.0  0.0  0.0  0.0  ...  0.0  0.0  0.0   \n",
              "3      0.0  0.0  0.0  0.0  0.0  0.0  0.0  0.0  0.0  0.0  ...  0.0  0.0  0.0   \n",
              "4      0.0  0.0  0.0  0.0  0.0  0.0  0.0  0.0  0.0  0.0  ...  0.0  0.0  0.0   \n",
              "...    ...  ...  ...  ...  ...  ...  ...  ...  ...  ...  ...  ...  ...  ...   \n",
              "88795  1.0  0.0  0.0  0.0  0.0  0.0  0.0  0.0  0.0  0.0  ...  0.0  0.0  0.0   \n",
              "88796  0.0  0.0  0.0  0.0  0.0  0.0  0.0  0.0  0.0  0.0  ...  0.0  0.0  0.0   \n",
              "88797  1.0  0.0  0.0  0.0  0.0  0.0  0.0  0.0  0.0  0.0  ...  0.0  0.0  0.0   \n",
              "88798  0.0  0.0  0.0  0.0  0.0  0.0  0.0  0.0  0.0  0.0  ...  0.0  0.0  0.0   \n",
              "88799  0.0  0.0  0.0  0.0  0.0  0.0  0.0  0.0  0.0  0.0  ...  0.0  0.0  0.0   \n",
              "\n",
              "        19   20   21   22   23   24   25  \n",
              "0      0.0  0.0  0.0  1.0  0.0  0.0  0.0  \n",
              "1      0.0  0.0  0.0  0.0  0.0  0.0  0.0  \n",
              "2      0.0  0.0  0.0  0.0  0.0  0.0  0.0  \n",
              "3      0.0  0.0  0.0  0.0  0.0  0.0  0.0  \n",
              "4      0.0  0.0  0.0  1.0  0.0  0.0  0.0  \n",
              "...    ...  ...  ...  ...  ...  ...  ...  \n",
              "88795  0.0  0.0  0.0  0.0  0.0  0.0  0.0  \n",
              "88796  0.0  1.0  0.0  0.0  0.0  0.0  0.0  \n",
              "88797  0.0  0.0  0.0  0.0  0.0  0.0  0.0  \n",
              "88798  0.0  0.0  0.0  1.0  0.0  0.0  0.0  \n",
              "88799  0.0  0.0  0.0  0.0  0.0  0.0  0.0  \n",
              "\n",
              "[88800 rows x 26 columns]"
            ],
            "text/html": [
              "\n",
              "  <div id=\"df-924e1069-981a-472f-9f9a-7c0782850695\">\n",
              "    <div class=\"colab-df-container\">\n",
              "      <div>\n",
              "<style scoped>\n",
              "    .dataframe tbody tr th:only-of-type {\n",
              "        vertical-align: middle;\n",
              "    }\n",
              "\n",
              "    .dataframe tbody tr th {\n",
              "        vertical-align: top;\n",
              "    }\n",
              "\n",
              "    .dataframe thead th {\n",
              "        text-align: right;\n",
              "    }\n",
              "</style>\n",
              "<table border=\"1\" class=\"dataframe\">\n",
              "  <thead>\n",
              "    <tr style=\"text-align: right;\">\n",
              "      <th></th>\n",
              "      <th>0</th>\n",
              "      <th>1</th>\n",
              "      <th>2</th>\n",
              "      <th>3</th>\n",
              "      <th>4</th>\n",
              "      <th>5</th>\n",
              "      <th>6</th>\n",
              "      <th>7</th>\n",
              "      <th>8</th>\n",
              "      <th>9</th>\n",
              "      <th>...</th>\n",
              "      <th>16</th>\n",
              "      <th>17</th>\n",
              "      <th>18</th>\n",
              "      <th>19</th>\n",
              "      <th>20</th>\n",
              "      <th>21</th>\n",
              "      <th>22</th>\n",
              "      <th>23</th>\n",
              "      <th>24</th>\n",
              "      <th>25</th>\n",
              "    </tr>\n",
              "  </thead>\n",
              "  <tbody>\n",
              "    <tr>\n",
              "      <th>0</th>\n",
              "      <td>0.0</td>\n",
              "      <td>0.0</td>\n",
              "      <td>0.0</td>\n",
              "      <td>0.0</td>\n",
              "      <td>0.0</td>\n",
              "      <td>0.0</td>\n",
              "      <td>0.0</td>\n",
              "      <td>0.0</td>\n",
              "      <td>0.0</td>\n",
              "      <td>0.0</td>\n",
              "      <td>...</td>\n",
              "      <td>0.0</td>\n",
              "      <td>0.0</td>\n",
              "      <td>0.0</td>\n",
              "      <td>0.0</td>\n",
              "      <td>0.0</td>\n",
              "      <td>0.0</td>\n",
              "      <td>1.0</td>\n",
              "      <td>0.0</td>\n",
              "      <td>0.0</td>\n",
              "      <td>0.0</td>\n",
              "    </tr>\n",
              "    <tr>\n",
              "      <th>1</th>\n",
              "      <td>0.0</td>\n",
              "      <td>0.0</td>\n",
              "      <td>0.0</td>\n",
              "      <td>0.0</td>\n",
              "      <td>0.0</td>\n",
              "      <td>0.0</td>\n",
              "      <td>1.0</td>\n",
              "      <td>0.0</td>\n",
              "      <td>0.0</td>\n",
              "      <td>0.0</td>\n",
              "      <td>...</td>\n",
              "      <td>0.0</td>\n",
              "      <td>0.0</td>\n",
              "      <td>0.0</td>\n",
              "      <td>0.0</td>\n",
              "      <td>0.0</td>\n",
              "      <td>0.0</td>\n",
              "      <td>0.0</td>\n",
              "      <td>0.0</td>\n",
              "      <td>0.0</td>\n",
              "      <td>0.0</td>\n",
              "    </tr>\n",
              "    <tr>\n",
              "      <th>2</th>\n",
              "      <td>0.0</td>\n",
              "      <td>0.0</td>\n",
              "      <td>0.0</td>\n",
              "      <td>0.0</td>\n",
              "      <td>0.0</td>\n",
              "      <td>0.0</td>\n",
              "      <td>0.0</td>\n",
              "      <td>0.0</td>\n",
              "      <td>0.0</td>\n",
              "      <td>0.0</td>\n",
              "      <td>...</td>\n",
              "      <td>0.0</td>\n",
              "      <td>0.0</td>\n",
              "      <td>0.0</td>\n",
              "      <td>0.0</td>\n",
              "      <td>0.0</td>\n",
              "      <td>0.0</td>\n",
              "      <td>0.0</td>\n",
              "      <td>0.0</td>\n",
              "      <td>0.0</td>\n",
              "      <td>0.0</td>\n",
              "    </tr>\n",
              "    <tr>\n",
              "      <th>3</th>\n",
              "      <td>0.0</td>\n",
              "      <td>0.0</td>\n",
              "      <td>0.0</td>\n",
              "      <td>0.0</td>\n",
              "      <td>0.0</td>\n",
              "      <td>0.0</td>\n",
              "      <td>0.0</td>\n",
              "      <td>0.0</td>\n",
              "      <td>0.0</td>\n",
              "      <td>0.0</td>\n",
              "      <td>...</td>\n",
              "      <td>0.0</td>\n",
              "      <td>0.0</td>\n",
              "      <td>0.0</td>\n",
              "      <td>0.0</td>\n",
              "      <td>0.0</td>\n",
              "      <td>0.0</td>\n",
              "      <td>0.0</td>\n",
              "      <td>0.0</td>\n",
              "      <td>0.0</td>\n",
              "      <td>0.0</td>\n",
              "    </tr>\n",
              "    <tr>\n",
              "      <th>4</th>\n",
              "      <td>0.0</td>\n",
              "      <td>0.0</td>\n",
              "      <td>0.0</td>\n",
              "      <td>0.0</td>\n",
              "      <td>0.0</td>\n",
              "      <td>0.0</td>\n",
              "      <td>0.0</td>\n",
              "      <td>0.0</td>\n",
              "      <td>0.0</td>\n",
              "      <td>0.0</td>\n",
              "      <td>...</td>\n",
              "      <td>0.0</td>\n",
              "      <td>0.0</td>\n",
              "      <td>0.0</td>\n",
              "      <td>0.0</td>\n",
              "      <td>0.0</td>\n",
              "      <td>0.0</td>\n",
              "      <td>1.0</td>\n",
              "      <td>0.0</td>\n",
              "      <td>0.0</td>\n",
              "      <td>0.0</td>\n",
              "    </tr>\n",
              "    <tr>\n",
              "      <th>...</th>\n",
              "      <td>...</td>\n",
              "      <td>...</td>\n",
              "      <td>...</td>\n",
              "      <td>...</td>\n",
              "      <td>...</td>\n",
              "      <td>...</td>\n",
              "      <td>...</td>\n",
              "      <td>...</td>\n",
              "      <td>...</td>\n",
              "      <td>...</td>\n",
              "      <td>...</td>\n",
              "      <td>...</td>\n",
              "      <td>...</td>\n",
              "      <td>...</td>\n",
              "      <td>...</td>\n",
              "      <td>...</td>\n",
              "      <td>...</td>\n",
              "      <td>...</td>\n",
              "      <td>...</td>\n",
              "      <td>...</td>\n",
              "      <td>...</td>\n",
              "    </tr>\n",
              "    <tr>\n",
              "      <th>88795</th>\n",
              "      <td>1.0</td>\n",
              "      <td>0.0</td>\n",
              "      <td>0.0</td>\n",
              "      <td>0.0</td>\n",
              "      <td>0.0</td>\n",
              "      <td>0.0</td>\n",
              "      <td>0.0</td>\n",
              "      <td>0.0</td>\n",
              "      <td>0.0</td>\n",
              "      <td>0.0</td>\n",
              "      <td>...</td>\n",
              "      <td>0.0</td>\n",
              "      <td>0.0</td>\n",
              "      <td>0.0</td>\n",
              "      <td>0.0</td>\n",
              "      <td>0.0</td>\n",
              "      <td>0.0</td>\n",
              "      <td>0.0</td>\n",
              "      <td>0.0</td>\n",
              "      <td>0.0</td>\n",
              "      <td>0.0</td>\n",
              "    </tr>\n",
              "    <tr>\n",
              "      <th>88796</th>\n",
              "      <td>0.0</td>\n",
              "      <td>0.0</td>\n",
              "      <td>0.0</td>\n",
              "      <td>0.0</td>\n",
              "      <td>0.0</td>\n",
              "      <td>0.0</td>\n",
              "      <td>0.0</td>\n",
              "      <td>0.0</td>\n",
              "      <td>0.0</td>\n",
              "      <td>0.0</td>\n",
              "      <td>...</td>\n",
              "      <td>0.0</td>\n",
              "      <td>0.0</td>\n",
              "      <td>0.0</td>\n",
              "      <td>0.0</td>\n",
              "      <td>1.0</td>\n",
              "      <td>0.0</td>\n",
              "      <td>0.0</td>\n",
              "      <td>0.0</td>\n",
              "      <td>0.0</td>\n",
              "      <td>0.0</td>\n",
              "    </tr>\n",
              "    <tr>\n",
              "      <th>88797</th>\n",
              "      <td>1.0</td>\n",
              "      <td>0.0</td>\n",
              "      <td>0.0</td>\n",
              "      <td>0.0</td>\n",
              "      <td>0.0</td>\n",
              "      <td>0.0</td>\n",
              "      <td>0.0</td>\n",
              "      <td>0.0</td>\n",
              "      <td>0.0</td>\n",
              "      <td>0.0</td>\n",
              "      <td>...</td>\n",
              "      <td>0.0</td>\n",
              "      <td>0.0</td>\n",
              "      <td>0.0</td>\n",
              "      <td>0.0</td>\n",
              "      <td>0.0</td>\n",
              "      <td>0.0</td>\n",
              "      <td>0.0</td>\n",
              "      <td>0.0</td>\n",
              "      <td>0.0</td>\n",
              "      <td>0.0</td>\n",
              "    </tr>\n",
              "    <tr>\n",
              "      <th>88798</th>\n",
              "      <td>0.0</td>\n",
              "      <td>0.0</td>\n",
              "      <td>0.0</td>\n",
              "      <td>0.0</td>\n",
              "      <td>0.0</td>\n",
              "      <td>0.0</td>\n",
              "      <td>0.0</td>\n",
              "      <td>0.0</td>\n",
              "      <td>0.0</td>\n",
              "      <td>0.0</td>\n",
              "      <td>...</td>\n",
              "      <td>0.0</td>\n",
              "      <td>0.0</td>\n",
              "      <td>0.0</td>\n",
              "      <td>0.0</td>\n",
              "      <td>0.0</td>\n",
              "      <td>0.0</td>\n",
              "      <td>1.0</td>\n",
              "      <td>0.0</td>\n",
              "      <td>0.0</td>\n",
              "      <td>0.0</td>\n",
              "    </tr>\n",
              "    <tr>\n",
              "      <th>88799</th>\n",
              "      <td>0.0</td>\n",
              "      <td>0.0</td>\n",
              "      <td>0.0</td>\n",
              "      <td>0.0</td>\n",
              "      <td>0.0</td>\n",
              "      <td>0.0</td>\n",
              "      <td>0.0</td>\n",
              "      <td>0.0</td>\n",
              "      <td>0.0</td>\n",
              "      <td>0.0</td>\n",
              "      <td>...</td>\n",
              "      <td>0.0</td>\n",
              "      <td>0.0</td>\n",
              "      <td>0.0</td>\n",
              "      <td>0.0</td>\n",
              "      <td>0.0</td>\n",
              "      <td>0.0</td>\n",
              "      <td>0.0</td>\n",
              "      <td>0.0</td>\n",
              "      <td>0.0</td>\n",
              "      <td>0.0</td>\n",
              "    </tr>\n",
              "  </tbody>\n",
              "</table>\n",
              "<p>88800 rows × 26 columns</p>\n",
              "</div>\n",
              "      <button class=\"colab-df-convert\" onclick=\"convertToInteractive('df-924e1069-981a-472f-9f9a-7c0782850695')\"\n",
              "              title=\"Convert this dataframe to an interactive table.\"\n",
              "              style=\"display:none;\">\n",
              "        \n",
              "  <svg xmlns=\"http://www.w3.org/2000/svg\" height=\"24px\"viewBox=\"0 0 24 24\"\n",
              "       width=\"24px\">\n",
              "    <path d=\"M0 0h24v24H0V0z\" fill=\"none\"/>\n",
              "    <path d=\"M18.56 5.44l.94 2.06.94-2.06 2.06-.94-2.06-.94-.94-2.06-.94 2.06-2.06.94zm-11 1L8.5 8.5l.94-2.06 2.06-.94-2.06-.94L8.5 2.5l-.94 2.06-2.06.94zm10 10l.94 2.06.94-2.06 2.06-.94-2.06-.94-.94-2.06-.94 2.06-2.06.94z\"/><path d=\"M17.41 7.96l-1.37-1.37c-.4-.4-.92-.59-1.43-.59-.52 0-1.04.2-1.43.59L10.3 9.45l-7.72 7.72c-.78.78-.78 2.05 0 2.83L4 21.41c.39.39.9.59 1.41.59.51 0 1.02-.2 1.41-.59l7.78-7.78 2.81-2.81c.8-.78.8-2.07 0-2.86zM5.41 20L4 18.59l7.72-7.72 1.47 1.35L5.41 20z\"/>\n",
              "  </svg>\n",
              "      </button>\n",
              "      \n",
              "  <style>\n",
              "    .colab-df-container {\n",
              "      display:flex;\n",
              "      flex-wrap:wrap;\n",
              "      gap: 12px;\n",
              "    }\n",
              "\n",
              "    .colab-df-convert {\n",
              "      background-color: #E8F0FE;\n",
              "      border: none;\n",
              "      border-radius: 50%;\n",
              "      cursor: pointer;\n",
              "      display: none;\n",
              "      fill: #1967D2;\n",
              "      height: 32px;\n",
              "      padding: 0 0 0 0;\n",
              "      width: 32px;\n",
              "    }\n",
              "\n",
              "    .colab-df-convert:hover {\n",
              "      background-color: #E2EBFA;\n",
              "      box-shadow: 0px 1px 2px rgba(60, 64, 67, 0.3), 0px 1px 3px 1px rgba(60, 64, 67, 0.15);\n",
              "      fill: #174EA6;\n",
              "    }\n",
              "\n",
              "    [theme=dark] .colab-df-convert {\n",
              "      background-color: #3B4455;\n",
              "      fill: #D2E3FC;\n",
              "    }\n",
              "\n",
              "    [theme=dark] .colab-df-convert:hover {\n",
              "      background-color: #434B5C;\n",
              "      box-shadow: 0px 1px 3px 1px rgba(0, 0, 0, 0.15);\n",
              "      filter: drop-shadow(0px 1px 2px rgba(0, 0, 0, 0.3));\n",
              "      fill: #FFFFFF;\n",
              "    }\n",
              "  </style>\n",
              "\n",
              "      <script>\n",
              "        const buttonEl =\n",
              "          document.querySelector('#df-924e1069-981a-472f-9f9a-7c0782850695 button.colab-df-convert');\n",
              "        buttonEl.style.display =\n",
              "          google.colab.kernel.accessAllowed ? 'block' : 'none';\n",
              "\n",
              "        async function convertToInteractive(key) {\n",
              "          const element = document.querySelector('#df-924e1069-981a-472f-9f9a-7c0782850695');\n",
              "          const dataTable =\n",
              "            await google.colab.kernel.invokeFunction('convertToInteractive',\n",
              "                                                     [key], {});\n",
              "          if (!dataTable) return;\n",
              "\n",
              "          const docLinkHtml = 'Like what you see? Visit the ' +\n",
              "            '<a target=\"_blank\" href=https://colab.research.google.com/notebooks/data_table.ipynb>data table notebook</a>'\n",
              "            + ' to learn more about interactive tables.';\n",
              "          element.innerHTML = '';\n",
              "          dataTable['output_type'] = 'display_data';\n",
              "          await google.colab.output.renderOutput(dataTable, element);\n",
              "          const docLink = document.createElement('div');\n",
              "          docLink.innerHTML = docLinkHtml;\n",
              "          element.appendChild(docLink);\n",
              "        }\n",
              "      </script>\n",
              "    </div>\n",
              "  </div>\n",
              "  "
            ]
          },
          "metadata": {},
          "execution_count": 27
        }
      ]
    },
    {
      "cell_type": "code",
      "source": [
        "theta1, theta2, b1, b2, Act2 = Neural_2_layered(100, 0.001, X_train1, Y_train)"
      ],
      "metadata": {
        "colab": {
          "base_uri": "https://localhost:8080/",
          "height": 1000
        },
        "id": "LeyS22T03Bvn",
        "outputId": "d4a4f5b5-663c-42b4-94f8-7e3bb480a592"
      },
      "execution_count": 66,
      "outputs": [
        {
          "output_type": "stream",
          "name": "stdout",
          "text": [
            "33.14480387547377\n",
            "32.20540401507566\n",
            "31.294287274537062\n",
            "30.41115766863936\n",
            "29.555673858162457\n",
            "28.727451648224505\n",
            "27.926066795018027\n",
            "27.151058068121657\n",
            "26.401930513648576\n",
            "25.678158863109076\n",
            "24.97919103389634\n",
            "24.30445166960491\n",
            "23.653345671758274\n",
            "23.025261678750542\n",
            "22.419575452670518\n",
            "21.835653139957625\n",
            "21.272854377329654\n",
            "20.73053521993709\n",
            "20.20805087407502\n",
            "19.7047582218864\n",
            "19.22001813022133\n",
            "18.75319754009293\n",
            "18.303671336951954\n",
            "17.87082400525971\n",
            "17.454051073571318\n",
            "17.052760358565493\n",
            "16.66637301819458\n",
            "16.29432442542315\n",
            "15.936064874914237\n",
            "15.591060135557143\n",
            "15.258791861961232\n",
            "14.93875787800896\n",
            "14.630472345319784\n",
            "14.333465829062153\n",
            "14.047285273006525\n",
            "13.771493895069254\n",
            "13.505671013887872\n",
            "13.249411816217233\n",
            "13.002327074165189\n",
            "12.764042820513502\n",
            "12.53419998960972\n",
            "12.312454030577742\n",
            "12.098474498890523\n",
            "11.891944631679833\n",
            "11.692560911532839\n",
            "11.500032622943463\n",
            "11.314081405050173\n",
            "11.134440803800693\n",
            "10.960855826236717\n",
            "10.793082499188321\n",
            "10.630887434303107\n",
            "10.474047401010852\n",
            "10.322348908734737\n",
            "10.175587799404273\n",
            "10.033568851099746\n",
            "9.89610539346081\n",
            "9.763018935319407\n",
            "9.634138804869282\n",
            "9.509301802555207\n",
            "9.3883518667564\n",
            "9.271139752244984\n",
            "9.15752272132248\n",
            "9.047364247471714\n",
            "8.940533731308106\n",
            "8.836906228570117\n",
            "8.736362189853685\n",
            "8.638787211768486\n",
            "8.54407179917244\n",
            "8.452111138126227\n",
            "8.362804879199217\n",
            "8.276056930752066\n",
            "8.191775261818677\n",
            "8.109871714210891\n",
            "8.030261823471633\n",
            "7.952864648307779\n",
            "7.877602608139949\n",
            "7.80440132841509\n",
            "7.733189493335958\n",
            "7.66389870567208\n",
            "7.596463353326822\n",
            "7.5308204823462725\n",
            "7.466909676066766\n",
            "7.404672940109211\n",
            "7.344054592939804\n",
            "7.285001161728033\n",
            "7.227461283244291\n",
            "7.17138560955019\n",
            "7.116726718245914\n",
            "7.06343902704925\n",
            "7.011478712491476\n",
            "6.960803632525243\n",
            "6.9113732528491125\n",
            "6.86314857676306\n",
            "6.816092078378053\n",
            "6.770167639011472\n",
            "6.725340486608517\n",
            "6.681577138037728\n",
            "6.638845344116149\n",
            "6.597114037227281\n",
            "6.556353281401503\n"
          ]
        },
        {
          "output_type": "display_data",
          "data": {
            "text/plain": [
              "<Figure size 432x288 with 1 Axes>"
            ],
            "image/png": "[encoded data removed]"
          },
          "metadata": {
            "needs_background": "light"
          }
        }
      ]
    },
    {
      "cell_type": "code",
      "source": [
        "s1 = np.dot (X_test1, theta1) \n",
        "A1  = 1/(1+(np.exp(-s1)))\n",
        "s2 = np.dot (A1, theta2) \n",
        "A2 = 1/(1+(np.exp(-s2)))\n",
        "#dont know how to add bias"
      ],
      "metadata": {
        "id": "eCkbZXaR46Pm"
      },
      "execution_count": 67,
      "outputs": []
    },
    {
      "cell_type": "code",
      "source": [
        "Y_pred_max = np.argmax(A2, axis =1)"
      ],
      "metadata": {
        "id": "C3qxECYCWWNj"
      },
      "execution_count": 68,
      "outputs": []
    },
    {
      "cell_type": "code",
      "source": [
        "Y_pred_max"
      ],
      "metadata": {
        "colab": {
          "base_uri": "https://localhost:8080/"
        },
        "id": "RGqWqjM7a6OG",
        "outputId": "069d13d3-c9e5-48a0-92d9-996038bb0896"
      },
      "execution_count": 70,
      "outputs": [
        {
          "output_type": "execute_result",
          "data": {
            "text/plain": [
              "array([4, 4, 4, ..., 4, 4, 4])"
            ]
          },
          "metadata": {},
          "execution_count": 70
        }
      ]
    },
    {
      "cell_type": "code",
      "source": [
        "Y_Test = Test1[:,0]"
      ],
      "metadata": {
        "id": "_wstKOysYGRJ"
      },
      "execution_count": 71,
      "outputs": []
    },
    {
      "cell_type": "code",
      "source": [
        "count = 0 \n",
        "for i in range(Y_Test.shape[0]):\n",
        "    if Y_Test[i] == Y_pred_max[i] + 1:\n",
        "        count+=1"
      ],
      "metadata": {
        "id": "ohLIpOQRX5E6"
      },
      "execution_count": 72,
      "outputs": []
    },
    {
      "cell_type": "code",
      "source": [
        "count"
      ],
      "metadata": {
        "colab": {
          "base_uri": "https://localhost:8080/"
        },
        "id": "V6GaRrdnYOPv",
        "outputId": "436c2089-e77c-4567-a562-f020aeb83b9b"
      },
      "execution_count": 73,
      "outputs": [
        {
          "output_type": "execute_result",
          "data": {
            "text/plain": [
              "800"
            ]
          },
          "metadata": {},
          "execution_count": 73
        }
      ]
    },
    {
      "cell_type": "code",
      "source": [
        "accuracy = (count/14799)*100"
      ],
      "metadata": {
        "id": "9YDaMsN-YYMa"
      },
      "execution_count": 75,
      "outputs": []
    },
    {
      "cell_type": "code",
      "source": [
        "accuracy"
      ],
      "metadata": {
        "colab": {
          "base_uri": "https://localhost:8080/"
        },
        "id": "mNL6aPKmbBAy",
        "outputId": "2d3880c6-be42-488e-8409-8580068755a0"
      },
      "execution_count": 76,
      "outputs": [
        {
          "output_type": "execute_result",
          "data": {
            "text/plain": [
              "5.405770660179742"
            ]
          },
          "metadata": {},
          "execution_count": 76
        }
      ]
    },
    {
      "cell_type": "code",
      "source": [
        ""
      ],
      "metadata": {
        "id": "_qAecPslbIgx"
      },
      "execution_count": null,
      "outputs": []
    }
  ]
}